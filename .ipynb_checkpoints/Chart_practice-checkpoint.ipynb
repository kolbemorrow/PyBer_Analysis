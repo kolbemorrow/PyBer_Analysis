{
 "cells": [
  {
   "cell_type": "code",
   "execution_count": null,
   "id": "5748ee6a",
   "metadata": {},
   "outputs": [],
   "source": [
    "%matplotlib inline"
   ]
  },
  {
   "cell_type": "code",
   "execution_count": null,
   "id": "5aae8027",
   "metadata": {},
   "outputs": [],
   "source": [
    "# Import dependencies\n",
    "import matplotlib.pyplot as plt\n",
    "import statistics"
   ]
  },
  {
   "cell_type": "code",
   "execution_count": null,
   "id": "96a6dff3",
   "metadata": {},
   "outputs": [],
   "source": [
    "# Set the x-axis to a list of strings for each month.\n",
    "x_axis = [\"Jan\", \"Feb\", \"Mar\", \"April\", \"May\", \"June\", \"July\", \"Aug\", \"Sept\", \"Oct\", \"Nov\", \"Dec\"]\n",
    "\n",
    "# Set the y-axis to a list of floats as the total fare in US dollars accumulated for each month.\n",
    "y_axis = [10.02, 23.24, 39.20, 35.42, 32.34, 27.04, 43.82, 10.56, 11.85, 27.90, 20.71, 20.09]"
   ]
  },
  {
   "cell_type": "code",
   "execution_count": null,
   "id": "5cebac87",
   "metadata": {},
   "outputs": [],
   "source": [
    "# Get the standard deviation of the calues in the y-axis.\n",
    "stdev = statistics.stdev(y_axis)\n",
    "plt.errorbar(x_axis, y_axis, yerr=stdev, capsize=3)"
   ]
  },
  {
   "cell_type": "code",
   "execution_count": null,
   "id": "8fd40fde",
   "metadata": {},
   "outputs": [],
   "source": [
    "fig, ax =  plt.subplots()\n",
    "ax.errorbar(x_axis, y_axis, yerr=stdev, capsize=3)\n",
    "plt.show()"
   ]
  },
  {
   "cell_type": "code",
   "execution_count": null,
   "id": "ad6660f2",
   "metadata": {},
   "outputs": [],
   "source": [
    "plt.bar(x_axis, y_axis, yerr=stdev, capsize=3)"
   ]
  },
  {
   "cell_type": "code",
   "execution_count": null,
   "id": "3f77a4c6",
   "metadata": {},
   "outputs": [],
   "source": [
    "fig, ax = plt.subplots()\n",
    "ax.bar(x_axis, y_axis, yerr=stdev, capsize=3)\n",
    "plt.show()"
   ]
  },
  {
   "cell_type": "code",
   "execution_count": null,
   "id": "6c3f7ce9",
   "metadata": {},
   "outputs": [],
   "source": [
    "import numpy as np\n",
    "plt.barh(x_axis, y_axis)\n",
    "plt.xticks(np.arange(0, 51, step=5.0))\n",
    "plt.gca().invert_yaxis()"
   ]
  },
  {
   "cell_type": "code",
   "execution_count": null,
   "id": "b9bc3fe6",
   "metadata": {},
   "outputs": [],
   "source": [
    "fig, ax = plt.subplots()\n",
    "ax.barh(x_axis, y_axis)\n",
    "ax.set_xticks(np.arange(0, 51, step=5.0))\n",
    "plt.show()"
   ]
  },
  {
   "cell_type": "code",
   "execution_count": null,
   "id": "c63addc5",
   "metadata": {},
   "outputs": [],
   "source": [
    "from matplotlib.ticker import MultipleLocator\n",
    "# Increase the size of the plot figure.\n",
    "fig, ax = plt.subplots(figsize=(8, 8))\n",
    "ax.barh(x_axis, y_axis)\n",
    "ax.set_xticks(np.arange(0, 51, step=5.0))\n",
    "\n",
    "# Create minor ticks at an increment of 1\n",
    "ax.xaxis.set_minor_locator(MultipleLocator(1))\n",
    "plt.show()"
   ]
  },
  {
   "cell_type": "code",
   "execution_count": null,
   "id": "4c375346",
   "metadata": {},
   "outputs": [],
   "source": []
  }
 ],
 "metadata": {
  "kernelspec": {
   "display_name": "PythonData",
   "language": "python",
   "name": "pythondata"
  },
  "language_info": {
   "codemirror_mode": {
    "name": "ipython",
    "version": 3
   },
   "file_extension": ".py",
   "mimetype": "text/x-python",
   "name": "python",
   "nbconvert_exporter": "python",
   "pygments_lexer": "ipython3",
   "version": "3.7.11"
  }
 },
 "nbformat": 4,
 "nbformat_minor": 5
}
